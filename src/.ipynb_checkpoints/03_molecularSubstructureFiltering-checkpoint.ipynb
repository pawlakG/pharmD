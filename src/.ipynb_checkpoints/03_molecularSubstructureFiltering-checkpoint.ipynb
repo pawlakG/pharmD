{
 "cells": [
  {
   "cell_type": "markdown",
   "id": "e5909cfc-6b93-436e-98de-65c99fbca5db",
   "metadata": {},
   "source": [
    "# Raffinage des composés selon leur structure moléculaire\n",
    "Objectif : Filtrer les composés selon la présence de sous-structures non désirées.\n",
    "## Prérequis"
   ]
  },
  {
   "cell_type": "code",
   "execution_count": 3,
   "id": "34d25645-1ec7-4c2a-81a7-c47e86cd04bb",
   "metadata": {},
   "outputs": [],
   "source": [
    "from os import listdir\n",
    "from pickle import load\n",
    "\n",
    "import pandas as pd\n",
    "from tqdm.auto import tqdm\n",
    "from rdkit import Chem\n",
    "from rdkit.Chem import PandasTools\n",
    "from rdkit.Chem.FilterCatalog import FilterCatalog, FilterCatalogParams"
   ]
  },
  {
   "cell_type": "markdown",
   "id": "045560a6-49e8-42e3-900d-d98f2afd1f5f",
   "metadata": {},
   "source": [
    "## Chargement des données filtrés sur la règle de Lipinski"
   ]
  },
  {
   "cell_type": "code",
   "execution_count": 5,
   "id": "a492613e-7e4e-4ddf-aee2-e96028f4fd3e",
   "metadata": {},
   "outputs": [
    {
     "data": {
      "text/html": [
       "<div>\n",
       "<style scoped>\n",
       "    .dataframe tbody tr th:only-of-type {\n",
       "        vertical-align: middle;\n",
       "    }\n",
       "\n",
       "    .dataframe tbody tr th {\n",
       "        vertical-align: top;\n",
       "    }\n",
       "\n",
       "    .dataframe thead th {\n",
       "        text-align: right;\n",
       "    }\n",
       "</style>\n",
       "<table border=\"1\" class=\"dataframe\">\n",
       "  <thead>\n",
       "    <tr style=\"text-align: right;\">\n",
       "      <th></th>\n",
       "      <th>molecule_chembl_id</th>\n",
       "      <th>IC50</th>\n",
       "      <th>units</th>\n",
       "      <th>smiles</th>\n",
       "      <th>pIC50</th>\n",
       "      <th>lipinski</th>\n",
       "    </tr>\n",
       "  </thead>\n",
       "  <tbody>\n",
       "    <tr>\n",
       "      <th>0</th>\n",
       "      <td>CHEMBL63786</td>\n",
       "      <td>0.003</td>\n",
       "      <td>nM</td>\n",
       "      <td>Brc1cccc(Nc2ncnc3cc4ccccc4cc23)c1</td>\n",
       "      <td>11.522879</td>\n",
       "      <td>True</td>\n",
       "    </tr>\n",
       "    <tr>\n",
       "      <th>1</th>\n",
       "      <td>CHEMBL35820</td>\n",
       "      <td>0.006</td>\n",
       "      <td>nM</td>\n",
       "      <td>CCOc1cc2ncnc(Nc3cccc(Br)c3)c2cc1OCC</td>\n",
       "      <td>11.221849</td>\n",
       "      <td>True</td>\n",
       "    </tr>\n",
       "    <tr>\n",
       "      <th>2</th>\n",
       "      <td>CHEMBL53711</td>\n",
       "      <td>0.006</td>\n",
       "      <td>nM</td>\n",
       "      <td>CN(C)c1cc2c(Nc3cccc(Br)c3)ncnc2cn1</td>\n",
       "      <td>11.221849</td>\n",
       "      <td>True</td>\n",
       "    </tr>\n",
       "    <tr>\n",
       "      <th>3</th>\n",
       "      <td>CHEMBL53753</td>\n",
       "      <td>0.008</td>\n",
       "      <td>nM</td>\n",
       "      <td>CNc1cc2c(Nc3cccc(Br)c3)ncnc2cn1</td>\n",
       "      <td>11.096910</td>\n",
       "      <td>True</td>\n",
       "    </tr>\n",
       "    <tr>\n",
       "      <th>4</th>\n",
       "      <td>CHEMBL66031</td>\n",
       "      <td>0.008</td>\n",
       "      <td>nM</td>\n",
       "      <td>Brc1cccc(Nc2ncnc3cc4[nH]cnc4cc23)c1</td>\n",
       "      <td>11.096910</td>\n",
       "      <td>True</td>\n",
       "    </tr>\n",
       "  </tbody>\n",
       "</table>\n",
       "</div>"
      ],
      "text/plain": [
       "  molecule_chembl_id   IC50 units                               smiles  \\\n",
       "0        CHEMBL63786  0.003    nM    Brc1cccc(Nc2ncnc3cc4ccccc4cc23)c1   \n",
       "1        CHEMBL35820  0.006    nM  CCOc1cc2ncnc(Nc3cccc(Br)c3)c2cc1OCC   \n",
       "2        CHEMBL53711  0.006    nM   CN(C)c1cc2c(Nc3cccc(Br)c3)ncnc2cn1   \n",
       "3        CHEMBL53753  0.008    nM      CNc1cc2c(Nc3cccc(Br)c3)ncnc2cn1   \n",
       "4        CHEMBL66031  0.008    nM  Brc1cccc(Nc2ncnc3cc4[nH]cnc4cc23)c1   \n",
       "\n",
       "       pIC50  lipinski  \n",
       "0  11.522879      True  \n",
       "1  11.221849      True  \n",
       "2  11.221849      True  \n",
       "3  11.096910      True  \n",
       "4  11.096910      True  "
      ]
     },
     "execution_count": 5,
     "metadata": {},
     "output_type": "execute_result"
    }
   ],
   "source": [
    "# Récupération de l'identifiant uniprot\n",
    "with open(\"../output/01_compoundDataAcquisition/uniprot_id.txt\", \"rb\") as file:\n",
    "    uniprot_id = load(file)\n",
    "    \n",
    "# chargement des molécules \n",
    "moleculesData = pd.read_csv(\"../output/02_molecularFiltering/\"+uniprot_id+\"_ro5Compliant.csv\")\n",
    "# Suppression des informations inutiles\n",
    "moleculesData.drop(columns=[\"molecular_weight\", \"n_hbd\", \"n_hba\", \"logp\"], inplace=True)\n",
    "moleculesData.head()"
   ]
  },
  {
   "cell_type": "markdown",
   "id": "a52331b1-1c78-4724-8fc5-363080138be9",
   "metadata": {},
   "source": [
    "## Filtre sur la présence de motifs sur-intéragissant, générateurs de bruit"
   ]
  },
  {
   "cell_type": "code",
   "execution_count": 6,
   "id": "d4620b2d-ad43-4ece-8016-cac170c48f2e",
   "metadata": {},
   "outputs": [],
   "source": [
    "# initialisation du filtre\n",
    "params = FilterCatalogParams()\n",
    "params.AddCatalog(FilterCatalogParams.FilterCatalogs.PAINS)\n",
    "catalog = FilterCatalog(params)"
   ]
  },
  {
   "cell_type": "code",
   "execution_count": 7,
   "id": "f64517cf-057d-48a0-863b-a7b6ee926cb1",
   "metadata": {},
   "outputs": [
    {
     "data": {
      "application/vnd.jupyter.widget-view+json": {
       "model_id": "fdf6bec92cc84739b48595264fdca535",
       "version_major": 2,
       "version_minor": 0
      },
      "text/plain": [
       "  0%|          | 0/5171 [00:00<?, ?it/s]"
      ]
     },
     "metadata": {},
     "output_type": "display_data"
    }
   ],
   "source": [
    "\"\"\" \n",
    "On ne garde que les molécules sans motifs\n",
    "intéragissant avec toute sorte de protéines\n",
    "\"\"\" \n",
    "\n",
    "matches = []\n",
    "clean = []\n",
    "for index, row in tqdm(moleculesData.iterrows(), total=moleculesData.shape[0]):\n",
    "    molecule = Chem.MolFromSmiles(row.smiles)\n",
    "    entry = catalog.GetFirstMatch(molecule)  # Get the first matching PAINS\n",
    "    if entry is not None:\n",
    "        # store PAINS information\n",
    "        matches.append(\n",
    "            {\n",
    "                \"chembl_id\": row.molecule_chembl_id,\n",
    "                \"rdkit_molecule\": molecule,\n",
    "                \"pains\": entry.GetDescription().capitalize(),\n",
    "            }\n",
    "        )\n",
    "    else:\n",
    "        # collect indices of molecules without PAINS\n",
    "        clean.append(index)\n",
    "\n",
    "matches = pd.DataFrame(matches)\n",
    "moleculesData = moleculesData.loc[clean]  \n"
   ]
  },
  {
   "cell_type": "code",
   "execution_count": 8,
   "id": "7bad68ad-a107-4ef7-b6bf-b72f1c3e1802",
   "metadata": {},
   "outputs": [
    {
     "name": "stdout",
     "output_type": "stream",
     "text": [
      "Number of compounds with PAINS: 466\n",
      "Number of compounds without PAINS: 4705\n"
     ]
    }
   ],
   "source": [
    "# NBVAL_CHECK_OUTPUT\n",
    "print(f\"Number of compounds with PAINS: {len(matches)}\")\n",
    "print(f\"Number of compounds without PAINS: {len(moleculesData)}\")"
   ]
  },
  {
   "cell_type": "markdown",
   "id": "5965a900-01bd-4bf0-95bc-744a54217f3e",
   "metadata": {},
   "source": [
    "## Filtre sur la présence de motifs indésirables"
   ]
  },
  {
   "cell_type": "code",
   "execution_count": 14,
   "id": "4e24580b-cd52-417c-b72f-e8d66fb724d0",
   "metadata": {},
   "outputs": [
    {
     "name": "stdout",
     "output_type": "stream",
     "text": [
      "Number of unwanted substructures in collection: 101\n"
     ]
    }
   ],
   "source": [
    "# Chargement des sous-structures non désirées\n",
    "substructures = pd.read_csv(\"../input/unwantedCompounds.csv\", sep=\";\")\n",
    "substructures[\"rdkit_molecule\"] = substructures.smarts.apply(Chem.MolFromSmarts)\n",
    "print(\"Number of unwanted substructures in collection:\", len(substructures))\n",
    "# NBVAL_CHECK_OUTPUT"
   ]
  },
  {
   "cell_type": "code",
   "execution_count": 18,
   "id": "cc1e8714-9dfb-442a-8b47-31200fc3ffce",
   "metadata": {},
   "outputs": [
    {
     "data": {
      "application/vnd.jupyter.widget-view+json": {
       "model_id": "656f49d22ffe4147a3b9780817cbe8fc",
       "version_major": 2,
       "version_minor": 0
      },
      "text/plain": [
       "  0%|          | 0/4705 [00:00<?, ?it/s]"
      ]
     },
     "metadata": {},
     "output_type": "display_data"
    }
   ],
   "source": [
    "# search for unwanted substructure\n",
    "matches = []\n",
    "clean = []\n",
    "for index, row in tqdm(moleculesData.iterrows(), total=moleculesData.shape[0]):\n",
    "    molecule = Chem.MolFromSmiles(row.smiles)\n",
    "    match = False\n",
    "    for _, substructure in substructures.iterrows():\n",
    "        if molecule.HasSubstructMatch(substructure.rdkit_molecule):\n",
    "            matches.append(\n",
    "                {\n",
    "                    \"chembl_id\": row.molecule_chembl_id,\n",
    "                    \"rdkit_molecule\": molecule,\n",
    "                    \"substructure\": substructure.rdkit_molecule,\n",
    "                    \"substructure_name\": substructure[\"name\"],\n",
    "                }\n",
    "            )\n",
    "            match = True\n",
    "    if not match:\n",
    "        clean.append(index)\n",
    "\n",
    "matches = pd.DataFrame(matches)\n",
    "moleculesData = moleculesData.loc[clean]"
   ]
  },
  {
   "cell_type": "code",
   "execution_count": 20,
   "id": "60076d64-659d-47a2-989f-5ab028cf0fed",
   "metadata": {},
   "outputs": [
    {
     "name": "stdout",
     "output_type": "stream",
     "text": [
      "Number of found unwanted substructure: 3006\n",
      "Number of compounds without unwanted substructure: 2569\n"
     ]
    }
   ],
   "source": [
    "# Vérification du nombres de molécules sans sous structures non voules\n",
    "print(f\"Number of found unwanted substructure: {len(matches)}\")\n",
    "print(f\"Number of compounds without unwanted substructure: {len(moleculesData)}\")"
   ]
  },
  {
   "cell_type": "markdown",
   "id": "bccfe2e4-472c-457f-bf43-3843e8705319",
   "metadata": {},
   "source": [
    "## Enregistrement des molécules"
   ]
  },
  {
   "cell_type": "code",
   "execution_count": 22,
   "id": "3d99f707-3efe-47c6-9698-437b396d01b9",
   "metadata": {},
   "outputs": [],
   "source": [
    "moleculesData.to_csv(\"../output/03_molecularSubstructureFiltering//\"+uniprot_id+\".csv\",\n",
    "                               index=False)"
   ]
  },
  {
   "cell_type": "code",
   "execution_count": null,
   "id": "adc7e295-1405-4cd5-ba6f-45a5138dcfc4",
   "metadata": {},
   "outputs": [],
   "source": []
  }
 ],
 "metadata": {
  "kernelspec": {
   "display_name": "Python 3 (ipykernel)",
   "language": "python",
   "name": "python3"
  },
  "language_info": {
   "codemirror_mode": {
    "name": "ipython",
    "version": 3
   },
   "file_extension": ".py",
   "mimetype": "text/x-python",
   "name": "python",
   "nbconvert_exporter": "python",
   "pygments_lexer": "ipython3",
   "version": "3.9.7"
  }
 },
 "nbformat": 4,
 "nbformat_minor": 5
}
