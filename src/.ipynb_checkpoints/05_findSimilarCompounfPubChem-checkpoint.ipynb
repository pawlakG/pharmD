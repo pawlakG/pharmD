{
 "cells": [
  {
   "cell_type": "markdown",
   "id": "6982ee82-bd5f-42d2-ba13-3fc7aed2e0c3",
   "metadata": {},
   "source": [
    "# Recherche de molécules similaires à celles sélectionnées.\n",
    "Objectif : Questionner la base de données PubChem sur des composés similaires à ceux sélectionnés.\n",
    "\n",
    "En cas de doublons nous conserverons le couple molécule-candidat avec le maximum de similarité\n",
    "## Pré-requis"
   ]
  },
  {
   "cell_type": "code",
   "execution_count": 1,
   "id": "2183ffe4-be59-4186-9cc2-1abad2fcc9de",
   "metadata": {},
   "outputs": [],
   "source": [
    "import time\n",
    "from urllib.parse import quote\n",
    "\n",
    "from pickle import load, dump\n",
    "from tqdm import trange\n",
    "\n",
    "from IPython.display import Markdown, Image\n",
    "import requests\n",
    "import pandas as pd\n",
    "from rdkit import Chem\n",
    "from rdkit.Chem import PandasTools\n",
    "from rdkit.Chem.Draw import MolsToGridImage"
   ]
  },
  {
   "cell_type": "code",
   "execution_count": 2,
   "id": "097deabd-61c9-4e50-b358-a465ff689eb9",
   "metadata": {},
   "outputs": [],
   "source": [
    "# Fonction de recherche de molécules similaires, seuil fixé par défaut à 75% \n",
    "def query_pubchem_for_similar_compounds(smiles, threshold=75, n_records=10):\n",
    "    \"\"\"\n",
    "    Query PubChem for similar compounds and return the job key.\n",
    "\n",
    "    Parameters\n",
    "    ----------\n",
    "    smiles : str\n",
    "        The canonical SMILES string for the given compound.\n",
    "    threshold : int\n",
    "        The threshold of similarity, default 75%. In PubChem, the default threshold is 90%.\n",
    "    n_records : int\n",
    "        The maximum number of feedback records.\n",
    "\n",
    "    Returns\n",
    "    -------\n",
    "    str\n",
    "        The job key from the PubChem web service.\n",
    "    \"\"\"\n",
    "    escaped_smiles = quote(smiles).replace(\"/\", \".\")\n",
    "    url = f\"https://pubchem.ncbi.nlm.nih.gov/rest/pug/compound/similarity/smiles/{escaped_smiles}/JSON?Threshold={threshold}&MaxRecords={n_records}\"\n",
    "    r = requests.get(url)\n",
    "    r.raise_for_status()\n",
    "    key = r.json()[\"Waiting\"][\"ListKey\"]\n",
    "    return key\n",
    "\n",
    "# Fonction de téléchargement des résultats\n",
    "def check_and_download(key, attempts=30):\n",
    "    \"\"\"\n",
    "    Check job status and download PubChem CIDs when the job finished\n",
    "\n",
    "    Parameters\n",
    "    ----------\n",
    "    key : str\n",
    "        The job key of the PubChem service.\n",
    "    attempts : int\n",
    "        The time waiting for the feedback from the PubChem service.\n",
    "\n",
    "    Returns\n",
    "    -------\n",
    "    list\n",
    "        The PubChem CIDs of similar compounds.\n",
    "    \"\"\"\n",
    "    url = f\"https://pubchem.ncbi.nlm.nih.gov/rest/pug/compound/listkey/{key}/cids/JSON\"\n",
    "    #print(f\"Querying for job {key} at URL {url}...\", end=\"\")\n",
    "    while attempts:\n",
    "        r = requests.get(url)\n",
    "        r.raise_for_status()\n",
    "        response = r.json()\n",
    "        if \"IdentifierList\" in response:\n",
    "            cids = response[\"IdentifierList\"][\"CID\"]\n",
    "            break\n",
    "        attempts -= 1\n",
    "        #print(\".\", end=\"\")\n",
    "        time.sleep(10)\n",
    "    else:\n",
    "        raise ValueError(f\"Could not find matches for job key: {key}\")\n",
    "    return cids\n",
    "\n",
    "# Récupération de l'ID SMILES à partir du CID PubChem\n",
    "def smiles_from_pubchem_cids(cids):\n",
    "    \"\"\"\n",
    "    Get the canonical SMILES string from the PubChem CIDs.\n",
    "\n",
    "    Parameters\n",
    "    ----------\n",
    "    cids : list\n",
    "        A list of PubChem CIDs.\n",
    "\n",
    "    Returns\n",
    "    -------\n",
    "    list\n",
    "        The canonical SMILES strings of the PubChem CIDs.\n",
    "    \"\"\"\n",
    "    url = f\"https://pubchem.ncbi.nlm.nih.gov/rest/pug/compound/cid/{','.join(map(str, cids))}/property/CanonicalSMILES/JSON\"\n",
    "    r = requests.get(url)\n",
    "    r.raise_for_status()\n",
    "    return [item[\"CanonicalSMILES\"] for item in r.json()[\"PropertyTable\"][\"Properties\"]]"
   ]
  },
  {
   "cell_type": "markdown",
   "id": "a7c4dcd3-6fd6-46ef-ba0a-64f5295762ba",
   "metadata": {},
   "source": [
    "## Récupération des molécules filtrées"
   ]
  },
  {
   "cell_type": "code",
   "execution_count": 3,
   "id": "8c710bc5-983b-4ebe-b861-9d4d327095d2",
   "metadata": {},
   "outputs": [],
   "source": [
    "# Récupération de l'identifiant uniprot\n",
    "with open(\"../output/01_compoundDataAcquisition/uniprot_id.txt\", \"rb\") as file:\n",
    "    uniprot_id = load(file)\n",
    "\n",
    "# Chargement des données\n",
    "molecules = pd.read_csv(\"../output/03_molecularSubstructureFiltering//\"+uniprot_id+\".csv\")"
   ]
  },
  {
   "cell_type": "markdown",
   "id": "c836f29c-e186-4e03-be8d-53757a26d9e8",
   "metadata": {},
   "source": [
    "## Recherche de molécumes similaires"
   ]
  },
  {
   "cell_type": "code",
   "execution_count": 109,
   "id": "c59c3d8d-71b4-4f05-a846-6d0ba767654c",
   "metadata": {},
   "outputs": [],
   "source": [
    "# Enregistrement des IDs restant à traiter\n",
    "\"\"\"\n",
    "LIGNE A LANCER QU'UNE SEULE FOIS LORS DE L'INITIALISATION DU PIPELINE!\n",
    "\"\"\"\n",
    "#molecules.loc[:,[\"molecule_chembl_id\",\"smiles\"]].to_csv(\"../input/05_findSimilarCompounfPubChem/idToProcess_\" + uniprot_id + \".csv\", index=False)"
   ]
  },
  {
   "cell_type": "code",
   "execution_count": 3,
   "id": "00ea9100-f1b6-4cf0-9520-69e431d85ebb",
   "metadata": {},
   "outputs": [],
   "source": []
  },
  {
   "cell_type": "code",
   "execution_count": 27,
   "id": "f7ef20f8-f8c8-435f-9d32-6d51540abe30",
   "metadata": {
    "tags": []
   },
   "outputs": [
    {
     "name": "stderr",
     "output_type": "stream",
     "text": [
      "0it [00:00, ?it/s]\n"
     ]
    }
   ],
   "source": [
    "# Il faut ajouter des gardes-fous, des moyens de contrôle du bon déroulement de la boucle.\n",
    "idToProc = pd.read_csv(\"../input/05_findSimilarCompounfPubChem/idToProcess_\" + uniprot_id + \".csv\")\n",
    "listQueries = idToProc.iloc[:,1].to_list()\n",
    "for i in trange (len(listQueries)):\n",
    "    print(i)\n",
    "    query = listQueries[i]\n",
    "    #print(i)\n",
    "    #print(\"\\t get similar CID\")\n",
    "    job_key = query_pubchem_for_similar_compounds(query, n_records=400)\n",
    "    #print(\"\\t Download ...\")\n",
    "    similar_cids = check_and_download(job_key)\n",
    "    #print(\"\\t Convert SMILES to PubMEd ID\")\n",
    "    similar_smiles = smiles_from_pubchem_cids(similar_cids)\n",
    "    \n",
    "    dataframe = pd.DataFrame(similar_smiles).T\n",
    "    dataframe = dataframe.set_index(pd.Index([idToProc.iloc[i,0]]))\n",
    "    dataframe.to_csv(\"../output/05_findSimilarCompounfPubChem/processedIds_\" + uniprot_id + \".csv\", mode = \"a\", header=False)\n",
    "    \n",
    "    #print(\"\\t Remove value\")\n",
    "    (idToProc.\n",
    "     drop(idToProc[idToProc.smiles == query].index).\n",
    "     to_csv(\"../input/05_findSimilarCompounfPubChem/idToProcess_\" + uniprot_id + \".csv\", index=False))\n",
    "    \n"
   ]
  },
  {
   "cell_type": "code",
   "execution_count": null,
   "id": "bbc78be2-1212-485f-9ffc-61d64bc1524e",
   "metadata": {},
   "outputs": [],
   "source": []
  },
  {
   "cell_type": "code",
   "execution_count": null,
   "id": "e3dbdca2-0cec-49a2-850d-22365b4299b5",
   "metadata": {},
   "outputs": [],
   "source": []
  }
 ],
 "metadata": {
  "kernelspec": {
   "display_name": "Python 3 (ipykernel)",
   "language": "python",
   "name": "python3"
  },
  "language_info": {
   "codemirror_mode": {
    "name": "ipython",
    "version": 3
   },
   "file_extension": ".py",
   "mimetype": "text/x-python",
   "name": "python",
   "nbconvert_exporter": "python",
   "pygments_lexer": "ipython3",
   "version": "3.9.7"
  }
 },
 "nbformat": 4,
 "nbformat_minor": 5
}
