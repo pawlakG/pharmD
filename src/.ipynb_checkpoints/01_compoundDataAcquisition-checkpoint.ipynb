{
 "cells": [
  {
   "cell_type": "markdown",
   "id": "e33c4207-d544-4a0a-b760-03094d1a4661",
   "metadata": {},
   "source": [
    "# Acquisition des données de composés\n",
    "Objectif : Acquérir des données de composés testé sur une cible thérapeutique spécifique.\n",
    "## Prérequis\n",
    "Importation des modules nécessaires : "
   ]
  },
  {
   "cell_type": "code",
   "execution_count": 1,
   "id": "bf1a7587-9af1-45fa-bdd2-704254f16191",
   "metadata": {},
   "outputs": [],
   "source": [
    "import math\n",
    "import numpy as np\n",
    "import pandas as pd\n",
    "import pickle\n",
    "from rdkit.Chem import PandasTools\n",
    "from chembl_webresource_client.new_client import new_client\n",
    "from tqdm.auto import tqdm"
   ]
  },
  {
   "cell_type": "markdown",
   "id": "69ae6bbe-5b57-4c1b-9067-b7d810671ed2",
   "metadata": {},
   "source": [
    "## Récupération de la protéine sur la base de données ChEMBL"
   ]
  },
  {
   "cell_type": "code",
   "execution_count": 2,
   "id": "1379e52e-9a75-47bd-854e-f425a17a74fa",
   "metadata": {},
   "outputs": [],
   "source": [
    "# Préparation de l'api pour accéder à la base de donnée ChEMBL\n",
    "targets_api = new_client.target\n",
    "compounds_api = new_client.molecule\n",
    "bioactivities_api = new_client.activity\n",
    "\n",
    "# Protéine à étudier\n",
    "uniprot_id = \"P00533\"\n",
    "# Enrergistrement du code uniprot de la cible dans un fichier texte\n",
    "with open(\"../output/01_compoundDataAcquisition/uniprot_id.txt\", \"wb\") as file:\n",
    "    pickle.dump(uniprot_id, file)\n",
    "# Récupération des informations sur la protéine à partir de la base de donnée ChEMBL\n",
    "targets = targets_api.get(target_components__accession=uniprot_id).only(\n",
    "    \"target_chembl_id\", \"organism\", \"pref_name\", \"target_type\"\n",
    ")\n",
    "targets = pd.DataFrame.from_records(targets)\n",
    "# La protéine d'intérêt est la première entrée du dataframe\n",
    "target = targets.iloc[0]\n",
    "## Enregistrement de son chemblID\n",
    "chembl_id = target.target_chembl_id"
   ]
  },
  {
   "cell_type": "markdown",
   "id": "f35d4d54-308f-4c9e-aa25-fdc32389a9d0",
   "metadata": {},
   "source": [
    "## Récupération et traitement des données d'essais d'IC50"
   ]
  },
  {
   "cell_type": "code",
   "execution_count": 3,
   "id": "ddebadc7-854b-44c5-bb07-b5a634cae9c6",
   "metadata": {},
   "outputs": [
    {
     "name": "stdout",
     "output_type": "stream",
     "text": [
      "Nombre de données de d'essais d'IC50: 9430\n"
     ]
    }
   ],
   "source": [
    "bioactivities = bioactivities_api.filter(\n",
    "    target_chembl_id=chembl_id, type=\"IC50\", relation=\"=\", assay_type=\"B\"\n",
    ").only(\n",
    "    \"activity_id\",\n",
    "    \"assay_chembl_id\",\n",
    "    \"assay_description\",\n",
    "    \"assay_type\",\n",
    "    \"molecule_chembl_id\",\n",
    "    \"type\",\n",
    "    \"standard_units\",\n",
    "    \"relation\",\n",
    "    \"standard_value\",\n",
    "    \"target_chembl_id\",\n",
    "    \"target_organism\",\n",
    ")\n",
    "# Téléchargement\n",
    "bioactivities_df = pd.DataFrame.from_records(bioactivities)\n",
    "print(f\"Nombre de données de d'essais d'IC50: {bioactivities_df.shape[0]}\")"
   ]
  },
  {
   "cell_type": "code",
   "execution_count": 4,
   "id": "c4d51c63-b2d8-4cd4-834d-09fd051dd594",
   "metadata": {},
   "outputs": [
    {
     "name": "stdout",
     "output_type": "stream",
     "text": [
      "Le jeu de donnée final comporte 6387 composés.\n"
     ]
    }
   ],
   "source": [
    "# Traitement des données d'essais d'IC50\n",
    "bioactivities_df.drop([\"units\", \"value\"], axis=1, inplace=True)\n",
    "# Conversition du type de donnée\n",
    "bioactivities_df = bioactivities_df.astype({\"standard_value\": \"float64\"})\n",
    "# Suppression des lignes avec des données manquantes\n",
    "bioactivities_df.dropna(axis=0, how=\"any\", inplace=True)\n",
    "# Sélection uniquement des lignes pour lesquelles l'unité est en nM\n",
    "bioactivities_df = bioactivities_df[bioactivities_df.standard_units == \"nM\"]\n",
    "# Suppression des duplicatas dans les molécules\n",
    "bioactivities_df.drop_duplicates(\"molecule_chembl_id\", keep=\"first\", inplace=True)\n",
    "# Remise à zéro des index du jeu de données\n",
    "bioactivities_df.reset_index(drop=True, inplace=True)\n",
    "# Recommage de certains noms de colonnes\n",
    "bioactivities_df.rename(\n",
    "    columns={\"standard_value\": \"IC50\", \"standard_units\": \"units\"}, inplace=True\n",
    ")\n",
    "print(f\"Le jeu de donnée final comporte {bioactivities_df.shape[0]} composés.\")"
   ]
  },
  {
   "cell_type": "markdown",
   "id": "7b9d558d-4442-46e9-add4-c1e8b007a565",
   "metadata": {},
   "source": [
    "## Récupération d'informations concernant les composés testés"
   ]
  },
  {
   "cell_type": "code",
   "execution_count": 6,
   "id": "618ff2a4-4a72-4dd0-9a23-dc1cacf73bf8",
   "metadata": {},
   "outputs": [
    {
     "data": {
      "application/vnd.jupyter.widget-view+json": {
       "model_id": "4059f9e84eef4bbcbb2b574294b0d38b",
       "version_major": 2,
       "version_minor": 0
      },
      "text/plain": [
       "  0%|          | 0/6387 [00:00<?, ?it/s]"
      ]
     },
     "metadata": {},
     "output_type": "display_data"
    }
   ],
   "source": [
    "# Récupération des informations des molécules\n",
    "compounds_provider = compounds_api.filter(\n",
    "    molecule_chembl_id__in=list(bioactivities_df[\"molecule_chembl_id\"])\n",
    ").only(\"molecule_chembl_id\", \"molecule_structures\")\n",
    "\n",
    "compounds = list(tqdm(compounds_provider))\n",
    "compounds_df = pd.DataFrame.from_records(\n",
    "    compounds,\n",
    ")\n",
    "# Suppression des lignes avec une donnée manquante\n",
    "compounds_df.dropna(axis=0, how=\"any\", inplace=True)\n",
    "# Suppression des lignes dupliquées\n",
    "compounds_df.drop_duplicates(\"molecule_chembl_id\", keep=\"first\", inplace=True)\n",
    "# Récupération uniquement de la strucutre sous la forme SMILES\n",
    "canonical_smiles = []\n",
    "\n",
    "for i, compounds in compounds_df.iterrows():\n",
    "    try:\n",
    "        canonical_smiles.append(compounds[\"molecule_structures\"][\"canonical_smiles\"])\n",
    "    except KeyError:\n",
    "        canonical_smiles.append(None)\n",
    "\n",
    "compounds_df[\"smiles\"] = canonical_smiles\n",
    "compounds_df.drop(\"molecule_structures\", axis=1, inplace=True)\n",
    "# Suppression des molécules sans structure SMILES\n",
    "compounds_df.dropna(axis=0, how=\"any\", inplace=True)"
   ]
  },
  {
   "cell_type": "markdown",
   "id": "46ebc85c-0f70-42e7-a7d1-fe924c09b00b",
   "metadata": {},
   "source": [
    "## Fusion des deux jeux de données"
   ]
  },
  {
   "cell_type": "code",
   "execution_count": 7,
   "id": "9943192c-73ba-4956-8914-2de49db4ee02",
   "metadata": {},
   "outputs": [],
   "source": [
    "# Création d'une fonction qui converti l'IC50 en pIC50\n",
    "def convert_ic50_to_pic50(IC50_value):\n",
    "    pIC50_value = 9 - math.log10(IC50_value)\n",
    "    return pIC50_value"
   ]
  },
  {
   "cell_type": "code",
   "execution_count": 8,
   "id": "8335d639-cf9d-459f-af6a-c9407e21c5e3",
   "metadata": {},
   "outputs": [],
   "source": [
    "output_df = pd.merge(\n",
    "    bioactivities_df[[\"molecule_chembl_id\", \"IC50\", \"units\"]],\n",
    "    compounds_df,\n",
    "    on=\"molecule_chembl_id\",\n",
    ")\n",
    "\n",
    "# Remise à zéro des index\n",
    "output_df.reset_index(drop=True, inplace=True)\n",
    "# Création d'une colonne pour la pIC50\n",
    "output_df[\"pIC50\"] = output_df.apply(lambda x: convert_ic50_to_pic50(x.IC50), axis=1)\n",
    "# Rangement du jeu de données selon la valeur de la pIC50\n",
    "output_df.sort_values(by=\"pIC50\", ascending=False, inplace=True)\n",
    "output_df.reset_index(drop=True, inplace=True)"
   ]
  },
  {
   "cell_type": "markdown",
   "id": "5ce2fa6c-d840-435f-a371-4a649c4c1b4b",
   "metadata": {
    "tags": []
   },
   "source": [
    "## Enregistrement du jeu de données"
   ]
  },
  {
   "cell_type": "code",
   "execution_count": 11,
   "id": "f522c620-e837-4db4-884a-b9681f68080b",
   "metadata": {},
   "outputs": [],
   "source": [
    "output_df.to_csv(f\"../output/01_compoundDataAcquisition/{uniprot_id}_compounds.csv\", index=False)"
   ]
  },
  {
   "cell_type": "code",
   "execution_count": null,
   "id": "012ac824-ae9b-4953-8aa6-b0a0cc13face",
   "metadata": {},
   "outputs": [],
   "source": []
  }
 ],
 "metadata": {
  "kernelspec": {
   "display_name": "Python 3 (ipykernel)",
   "language": "python",
   "name": "python3"
  },
  "language_info": {
   "codemirror_mode": {
    "name": "ipython",
    "version": 3
   },
   "file_extension": ".py",
   "mimetype": "text/x-python",
   "name": "python",
   "nbconvert_exporter": "python",
   "pygments_lexer": "ipython3",
   "version": "3.9.7"
  }
 },
 "nbformat": 4,
 "nbformat_minor": 5
}
